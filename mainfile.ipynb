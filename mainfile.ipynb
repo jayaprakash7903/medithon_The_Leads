{
 "cells": [
  {
   "cell_type": "code",
   "execution_count": 9,
   "metadata": {},
   "outputs": [
    {
     "name": "stderr",
     "output_type": "stream",
     "text": [
      "c:\\Users\\bhara\\AppData\\Local\\Programs\\Python\\Python312\\Lib\\site-packages\\keras\\src\\layers\\core\\embedding.py:93: UserWarning: Do not pass an `input_shape`/`input_dim` argument to a layer. When using Sequential models, prefer using an `Input(shape)` object as the first layer in the model instead.\n",
      "  super().__init__(**kwargs)\n"
     ]
    },
    {
     "data": {
      "text/html": [
       "<pre style=\"white-space:pre;overflow-x:auto;line-height:normal;font-family:Menlo,'DejaVu Sans Mono',consolas,'Courier New',monospace\"><span style=\"font-weight: bold\">Model: \"sequential_1\"</span>\n",
       "</pre>\n"
      ],
      "text/plain": [
       "\u001b[1mModel: \"sequential_1\"\u001b[0m\n"
      ]
     },
     "metadata": {},
     "output_type": "display_data"
    },
    {
     "data": {
      "text/html": [
       "<pre style=\"white-space:pre;overflow-x:auto;line-height:normal;font-family:Menlo,'DejaVu Sans Mono',consolas,'Courier New',monospace\">┏━━━━━━━━━━━━━━━━━━━━━━━━━━━━━━━━━┳━━━━━━━━━━━━━━━━━━━━━━━━┳━━━━━━━━━━━━━━━┓\n",
       "┃<span style=\"font-weight: bold\"> Layer (type)                    </span>┃<span style=\"font-weight: bold\"> Output Shape           </span>┃<span style=\"font-weight: bold\">       Param # </span>┃\n",
       "┡━━━━━━━━━━━━━━━━━━━━━━━━━━━━━━━━━╇━━━━━━━━━━━━━━━━━━━━━━━━╇━━━━━━━━━━━━━━━┩\n",
       "│ embedding_1 (<span style=\"color: #0087ff; text-decoration-color: #0087ff\">Embedding</span>)         │ (<span style=\"color: #00d7ff; text-decoration-color: #00d7ff\">None</span>, <span style=\"color: #00af00; text-decoration-color: #00af00\">200</span>, <span style=\"color: #00af00; text-decoration-color: #00af00\">128</span>)       │     <span style=\"color: #00af00; text-decoration-color: #00af00\">1,280,000</span> │\n",
       "├─────────────────────────────────┼────────────────────────┼───────────────┤\n",
       "│ bidirectional_1 (<span style=\"color: #0087ff; text-decoration-color: #0087ff\">Bidirectional</span>) │ (<span style=\"color: #00d7ff; text-decoration-color: #00d7ff\">None</span>, <span style=\"color: #00af00; text-decoration-color: #00af00\">128</span>)            │        <span style=\"color: #00af00; text-decoration-color: #00af00\">98,816</span> │\n",
       "├─────────────────────────────────┼────────────────────────┼───────────────┤\n",
       "│ dropout_1 (<span style=\"color: #0087ff; text-decoration-color: #0087ff\">Dropout</span>)             │ (<span style=\"color: #00d7ff; text-decoration-color: #00d7ff\">None</span>, <span style=\"color: #00af00; text-decoration-color: #00af00\">128</span>)            │             <span style=\"color: #00af00; text-decoration-color: #00af00\">0</span> │\n",
       "├─────────────────────────────────┼────────────────────────┼───────────────┤\n",
       "│ dense_1 (<span style=\"color: #0087ff; text-decoration-color: #0087ff\">Dense</span>)                 │ (<span style=\"color: #00d7ff; text-decoration-color: #00d7ff\">None</span>, <span style=\"color: #00af00; text-decoration-color: #00af00\">2</span>)              │           <span style=\"color: #00af00; text-decoration-color: #00af00\">258</span> │\n",
       "└─────────────────────────────────┴────────────────────────┴───────────────┘\n",
       "</pre>\n"
      ],
      "text/plain": [
       "┏━━━━━━━━━━━━━━━━━━━━━━━━━━━━━━━━━┳━━━━━━━━━━━━━━━━━━━━━━━━┳━━━━━━━━━━━━━━━┓\n",
       "┃\u001b[1m \u001b[0m\u001b[1mLayer (type)                   \u001b[0m\u001b[1m \u001b[0m┃\u001b[1m \u001b[0m\u001b[1mOutput Shape          \u001b[0m\u001b[1m \u001b[0m┃\u001b[1m \u001b[0m\u001b[1m      Param #\u001b[0m\u001b[1m \u001b[0m┃\n",
       "┡━━━━━━━━━━━━━━━━━━━━━━━━━━━━━━━━━╇━━━━━━━━━━━━━━━━━━━━━━━━╇━━━━━━━━━━━━━━━┩\n",
       "│ embedding_1 (\u001b[38;5;33mEmbedding\u001b[0m)         │ (\u001b[38;5;45mNone\u001b[0m, \u001b[38;5;34m200\u001b[0m, \u001b[38;5;34m128\u001b[0m)       │     \u001b[38;5;34m1,280,000\u001b[0m │\n",
       "├─────────────────────────────────┼────────────────────────┼───────────────┤\n",
       "│ bidirectional_1 (\u001b[38;5;33mBidirectional\u001b[0m) │ (\u001b[38;5;45mNone\u001b[0m, \u001b[38;5;34m128\u001b[0m)            │        \u001b[38;5;34m98,816\u001b[0m │\n",
       "├─────────────────────────────────┼────────────────────────┼───────────────┤\n",
       "│ dropout_1 (\u001b[38;5;33mDropout\u001b[0m)             │ (\u001b[38;5;45mNone\u001b[0m, \u001b[38;5;34m128\u001b[0m)            │             \u001b[38;5;34m0\u001b[0m │\n",
       "├─────────────────────────────────┼────────────────────────┼───────────────┤\n",
       "│ dense_1 (\u001b[38;5;33mDense\u001b[0m)                 │ (\u001b[38;5;45mNone\u001b[0m, \u001b[38;5;34m2\u001b[0m)              │           \u001b[38;5;34m258\u001b[0m │\n",
       "└─────────────────────────────────┴────────────────────────┴───────────────┘\n"
      ]
     },
     "metadata": {},
     "output_type": "display_data"
    },
    {
     "data": {
      "text/html": [
       "<pre style=\"white-space:pre;overflow-x:auto;line-height:normal;font-family:Menlo,'DejaVu Sans Mono',consolas,'Courier New',monospace\"><span style=\"font-weight: bold\"> Total params: </span><span style=\"color: #00af00; text-decoration-color: #00af00\">1,379,074</span> (5.26 MB)\n",
       "</pre>\n"
      ],
      "text/plain": [
       "\u001b[1m Total params: \u001b[0m\u001b[38;5;34m1,379,074\u001b[0m (5.26 MB)\n"
      ]
     },
     "metadata": {},
     "output_type": "display_data"
    },
    {
     "data": {
      "text/html": [
       "<pre style=\"white-space:pre;overflow-x:auto;line-height:normal;font-family:Menlo,'DejaVu Sans Mono',consolas,'Courier New',monospace\"><span style=\"font-weight: bold\"> Trainable params: </span><span style=\"color: #00af00; text-decoration-color: #00af00\">1,379,074</span> (5.26 MB)\n",
       "</pre>\n"
      ],
      "text/plain": [
       "\u001b[1m Trainable params: \u001b[0m\u001b[38;5;34m1,379,074\u001b[0m (5.26 MB)\n"
      ]
     },
     "metadata": {},
     "output_type": "display_data"
    },
    {
     "data": {
      "text/html": [
       "<pre style=\"white-space:pre;overflow-x:auto;line-height:normal;font-family:Menlo,'DejaVu Sans Mono',consolas,'Courier New',monospace\"><span style=\"font-weight: bold\"> Non-trainable params: </span><span style=\"color: #00af00; text-decoration-color: #00af00\">0</span> (0.00 B)\n",
       "</pre>\n"
      ],
      "text/plain": [
       "\u001b[1m Non-trainable params: \u001b[0m\u001b[38;5;34m0\u001b[0m (0.00 B)\n"
      ]
     },
     "metadata": {},
     "output_type": "display_data"
    },
    {
     "name": "stdout",
     "output_type": "stream",
     "text": [
      "Epoch 1/10\n",
      "\u001b[1m117/117\u001b[0m \u001b[32m━━━━━━━━━━━━━━━━━━━━\u001b[0m\u001b[37m\u001b[0m \u001b[1m12s\u001b[0m 85ms/step - accuracy: 0.8077 - loss: 0.4200 - val_accuracy: 0.9652 - val_loss: 0.1123\n",
      "Epoch 2/10\n",
      "\u001b[1m117/117\u001b[0m \u001b[32m━━━━━━━━━━━━━━━━━━━━\u001b[0m\u001b[37m\u001b[0m \u001b[1m16s\u001b[0m 133ms/step - accuracy: 0.9739 - loss: 0.0992 - val_accuracy: 0.9695 - val_loss: 0.0792\n",
      "Epoch 3/10\n",
      "\u001b[1m117/117\u001b[0m \u001b[32m━━━━━━━━━━━━━━━━━━━━\u001b[0m\u001b[37m\u001b[0m \u001b[1m15s\u001b[0m 81ms/step - accuracy: 0.9862 - loss: 0.0460 - val_accuracy: 0.9882 - val_loss: 0.0533\n",
      "Epoch 4/10\n",
      "\u001b[1m117/117\u001b[0m \u001b[32m━━━━━━━━━━━━━━━━━━━━\u001b[0m\u001b[37m\u001b[0m \u001b[1m9s\u001b[0m 81ms/step - accuracy: 0.9924 - loss: 0.0257 - val_accuracy: 0.9909 - val_loss: 0.0441\n",
      "Epoch 5/10\n",
      "\u001b[1m117/117\u001b[0m \u001b[32m━━━━━━━━━━━━━━━━━━━━\u001b[0m\u001b[37m\u001b[0m \u001b[1m9s\u001b[0m 76ms/step - accuracy: 0.9957 - loss: 0.0201 - val_accuracy: 0.9898 - val_loss: 0.0411\n",
      "Epoch 6/10\n",
      "\u001b[1m117/117\u001b[0m \u001b[32m━━━━━━━━━━━━━━━━━━━━\u001b[0m\u001b[37m\u001b[0m \u001b[1m9s\u001b[0m 76ms/step - accuracy: 0.9977 - loss: 0.0090 - val_accuracy: 0.9920 - val_loss: 0.0323\n",
      "Epoch 7/10\n",
      "\u001b[1m117/117\u001b[0m \u001b[32m━━━━━━━━━━━━━━━━━━━━\u001b[0m\u001b[37m\u001b[0m \u001b[1m9s\u001b[0m 75ms/step - accuracy: 0.9984 - loss: 0.0083 - val_accuracy: 0.9914 - val_loss: 0.0361\n",
      "Epoch 8/10\n",
      "\u001b[1m117/117\u001b[0m \u001b[32m━━━━━━━━━━━━━━━━━━━━\u001b[0m\u001b[37m\u001b[0m \u001b[1m9s\u001b[0m 75ms/step - accuracy: 0.9876 - loss: 0.0467 - val_accuracy: 0.9845 - val_loss: 0.0497\n",
      "Epoch 9/10\n",
      "\u001b[1m117/117\u001b[0m \u001b[32m━━━━━━━━━━━━━━━━━━━━\u001b[0m\u001b[37m\u001b[0m \u001b[1m9s\u001b[0m 76ms/step - accuracy: 0.9946 - loss: 0.0212 - val_accuracy: 0.9898 - val_loss: 0.0340\n",
      "Epoch 10/10\n",
      "\u001b[1m117/117\u001b[0m \u001b[32m━━━━━━━━━━━━━━━━━━━━\u001b[0m\u001b[37m\u001b[0m \u001b[1m9s\u001b[0m 75ms/step - accuracy: 0.9987 - loss: 0.0072 - val_accuracy: 0.9904 - val_loss: 0.0407\n"
     ]
    }
   ],
   "source": [
    "import pandas as pd \n",
    "import re\n",
    "import os \n",
    "import numpy as np\n",
    "import matplotlib.pyplot as plt \n",
    "from sklearn.model_selection import train_test_split\n",
    "from tensorflow.keras.preprocessing.text import Tokenizer\n",
    "from tensorflow.keras.preprocessing.sequence import pad_sequences\n",
    "from tensorflow.keras.utils import to_categorical\n",
    "import tensorflow as tf\n",
    "from tensorflow.keras.models import Sequential\n",
    "from tensorflow.keras.layers import Embedding, LSTM, Dense, Dropout, Bidirectional\n",
    "import tkinter as tk\n",
    "from tkinter import messagebox\n",
    "import customtkinter as ctk\n",
    "\n",
    "# Load and prepare the data\n",
    "df=pd.read_csv(\"main_data.csv\")\n",
    "df.dropna(inplace=True)\n",
    "df.isnull().sum()\n",
    "\n",
    "# Assuming 'EmailText' contains the text data and 'Label' contains the labels\n",
    "X = df['EmailText']\n",
    "y = df['Label']\n",
    "\n",
    "# Split data into training and testing sets\n",
    "X_train, X_test, y_train, y_test = train_test_split(X, y, test_size=0.2, random_state=42)\n",
    "\n",
    "# Tokenization and padding\n",
    "max_words = 10000  # Vocabulary size\n",
    "tokenizer = Tokenizer(num_words=max_words, oov_token='<OOV>')\n",
    "tokenizer.fit_on_texts(X_train)\n",
    "\n",
    "# Convert texts to sequences\n",
    "X_train_seq = tokenizer.texts_to_sequences(X_train)\n",
    "X_test_seq = tokenizer.texts_to_sequences(X_test)\n",
    "\n",
    "# Pad the sequences so they are all the same length\n",
    "maxlen = 200  # Maximum sequence length\n",
    "X_train_pad = pad_sequences(X_train_seq, maxlen=maxlen, padding='post', truncating='post')\n",
    "X_test_pad = pad_sequences(X_test_seq, maxlen=maxlen, padding='post', truncating='post')\n",
    "\n",
    "# Convert the labels to categorical (for binary classification using softmax)\n",
    "y_train = to_categorical(y_train, num_classes=2)\n",
    "y_test = to_categorical(y_test, num_classes=2)\n",
    "\n",
    "# Build the model\n",
    "model = Sequential()\n",
    "embedding_dim = 128\n",
    "model.add(Embedding(input_dim=max_words, output_dim=embedding_dim, input_shape=(maxlen,)))\n",
    "model.add(Bidirectional(LSTM(units=64)))\n",
    "model.add(Dropout(0.5))\n",
    "model.add(Dense(2, activation='softmax'))  # 2 classes: ham and spam\n",
    "\n",
    "# Compile the model\n",
    "model.compile(loss='categorical_crossentropy', optimizer='adam', metrics=['accuracy'])\n",
    "model.summary()\n",
    "\n",
    "# Train the model\n",
    "batch_size = 64\n",
    "epochs = 10\n",
    "history = model.fit(X_train_pad, y_train, batch_size=batch_size, epochs=epochs, validation_data=(X_test_pad, y_test))\n",
    "\n",
    "# Function to pop up an alert using Tkinter\n",
    "def show_spam_alert():\n",
    "    root = tk.Tk()\n",
    "    root.withdraw()  # Hide the main Tkinter window\n",
    "    messagebox.showwarning(\"Spam Alert\", \"This email is classified as Spam!\")\n",
    "    root.destroy()  # Close the Tkinter window after the alert is dismissed\n",
    "\n",
    "# Sample email to predict\n"
   ]
  },
  {
   "cell_type": "code",
   "execution_count": 33,
   "metadata": {},
   "outputs": [],
   "source": [
    "new_emails = [\"\"\"\n",
    "Dear Customer,\n",
    "\n",
    "You have won a $1,000 Walmart Gift Card! To claim your prize, please click the link below and enter your information.\n",
    "\n",
    "[Click Here to Claim]\n",
    "\n",
    "Hurry! This offer is only valid for a limited time.\n",
    "\n",
    "Best regards,\n",
    "Walmart Rewards Team\n",
    "\n",
    "\"\"\"]"
   ]
  },
  {
   "cell_type": "code",
   "execution_count": 11,
   "metadata": {},
   "outputs": [],
   "source": [
    "\n",
    "# Initialize the CustomTkinter application\n",
    "ctk.set_appearance_mode(\"light\")  # Modes: \"System\" (default), \"Dark\", \"Light\"\n",
    "ctk.set_default_color_theme(\"blue\")  # Themes: \"blue\" (default), \"green\", \"dark-blue\"\n",
    "\n",
    "# Create the main application window\n",
    "app = ctk.CTk()\n",
    "app.title(\"CustomTkinter Mailbox\")\n",
    "app.geometry(\"800x600\")\n",
    "\n",
    "# Create the frame for the list of emails on the left\n",
    "email_list_frame = ctk.CTkFrame(app, width=200)\n",
    "email_list_frame.grid(row=0, column=0, sticky=\"nswe\", padx=20, pady=20)\n",
    "\n",
    "# Add a label to simulate email list\n",
    "email_list_label = ctk.CTkLabel(email_list_frame, text=\"Inbox\", font=(\"Helvetica\", 16, \"bold\"))\n",
    "email_list_label.pack(pady=10)\n",
    "\n",
    "# Add a few placeholder buttons for the email list (representing individual emails)\n",
    "email_1_button = ctk.CTkButton(email_list_frame, text=\"Email 1\", width=180)\n",
    "email_1_button.pack(pady=5)\n",
    "\n",
    "email_2_button = ctk.CTkButton(email_list_frame, text=\"Email 2\", width=180)\n",
    "email_2_button.pack(pady=5)\n",
    "\n",
    "email_3_button = ctk.CTkButton(email_list_frame, text=\"Email 3\", width=180)\n",
    "email_3_button.pack(pady=5)\n",
    "\n",
    "# Create a frame for displaying the selected email content\n",
    "email_viewer_frame = ctk.CTkFrame(app)\n",
    "email_viewer_frame.grid(row=0, column=1, sticky=\"nswe\", padx=20, pady=20)\n",
    "\n",
    "# Add a label to indicate email viewing area\n",
    "email_viewer_label = ctk.CTkLabel(email_viewer_frame, text=\"Email Viewer\", font=(\"Helvetica\", 16, \"bold\"))\n",
    "email_viewer_label.pack(pady=10)\n",
    "\n",
    "# Create a textbox for displaying email content (non-editable)\n",
    "email_content = ctk.CTkTextbox(email_viewer_frame, width=500, height=400, font=(\"Arial\", 12))\n",
    "email_content.pack(pady=10, padx=10)\n",
    "\n",
    "# Insert the email content into the textbox and make it non-editable\n",
    "email_content.insert(\"1.0\", new_emails[0])\n",
    "email_content.configure(state=\"disabled\")  # Make the content read-only\n",
    "\n",
    "# Adjust grid row/column configuration to make the layout responsive\n",
    "app.grid_columnconfigure(1, weight=1)\n",
    "app.grid_rowconfigure(0, weight=1)\n",
    "\n",
    "# Run the Tkinter event loop\n",
    "app.mainloop()\n"
   ]
  },
  {
   "cell_type": "code",
   "execution_count": 77,
   "metadata": {},
   "outputs": [
    {
     "name": "stdout",
     "output_type": "stream",
     "text": [
      "\u001b[1m1/1\u001b[0m \u001b[32m━━━━━━━━━━━━━━━━━━━━\u001b[0m\u001b[37m\u001b[0m \u001b[1m0s\u001b[0m 17ms/step\n",
      "Predicted probabilities: [[5.4897486e-05 9.9994504e-01]]\n",
      "Predicted labels based on threshold: [1]\n"
     ]
    }
   ],
   "source": [
    "# Tokenize and pad the email sequences\n",
    "new_sequences = tokenizer.texts_to_sequences(new_emails)\n",
    "new_padded = pad_sequences(new_sequences, maxlen=maxlen, padding='post', truncating='post')\n",
    "\n",
    "# Predict the probabilities of each class (ham=0, spam=1)\n",
    "predictions = model.predict(new_padded)\n",
    "print(\"Predicted probabilities:\", predictions)\n",
    "\n",
    "# Set a custom threshold for classifying spam\n",
    "spam_threshold = 0.996\n",
    "\n",
    "# Get the probability of the email being classified as spam (class 1)\n",
    "spam_probabilities = predictions[:, 1]\n",
    "\n",
    "# Apply the threshold: if spam probability > threshold, classify as spam (1), else ham (0)\n",
    "predicted_labels = (spam_probabilities > spam_threshold).astype(int)\n",
    "print(\"Predicted labels based on threshold:\", predicted_labels)\n",
    "\n",
    "# If the predicted label is spam, show the spam alert\n",
    "if predicted_labels == 1:\n",
    "    show_spam_alert()  # Trigger the Tkinter spam alert popup\n"
   ]
  },
  {
   "cell_type": "markdown",
   "metadata": {},
   "source": [
    "# Email 1: Legitimate Appointment Reminder"
   ]
  },
  {
   "cell_type": "code",
   "execution_count": 70,
   "metadata": {},
   "outputs": [],
   "source": [
    "new_emails = [\"\"\"Subject: Your Upcoming Appointment with Dr. Reynolds\n",
    "\n",
    "Dear [Patient's Name],\n",
    "\n",
    "This is a confirmation for your appointment with Dr. Reynolds scheduled for October 15, 2024, at 2:00 PM. Please remember to bring your updated medical records and insurance card.\n",
    "\n",
    "Location:\n",
    "Community Health Clinic\n",
    "450 Wellness Drive, Springfield, ST 12345\n",
    "\n",
    "For any changes, please contact our front desk at (555) 001-2345.\n",
    "\n",
    "Best Regards,\n",
    "Community Health Clinic Administrative Team\n",
    "\n",
    "\n",
    "\n",
    "\"\"\"]\n"
   ]
  },
  {
   "cell_type": "markdown",
   "metadata": {},
   "source": [
    "# Email 2: Phishing Attempt - Fake Bill"
   ]
  },
  {
   "cell_type": "code",
   "execution_count": 72,
   "metadata": {},
   "outputs": [],
   "source": [
    "new_emails = [\"\"\"Subject: Urgent: Outstanding Medical Bill Requires Immediate Payment\n",
    "\n",
    "Dear Valued Patient,\n",
    "\n",
    "We have detected an unresolved bill from your recent surgery. Please settle the outstanding amount of $3,500 to avoid penalties. Kindly use the link below to make the payment promptly using our secure payment portal.\n",
    "\n",
    "[Phishing Link Disguised as Payment Portal]\n",
    "\n",
    "For any discrepancies, please contact our billing department immediately at (555) 987-6543.\n",
    "\n",
    "Best Regards,\n",
    "Springfield Medical Center Financial Department\n",
    "\n",
    "\"\"\"]\n"
   ]
  },
  {
   "cell_type": "markdown",
   "metadata": {},
   "source": [
    "# Email 3: Legitimate Lab Results"
   ]
  },
  {
   "cell_type": "code",
   "execution_count": 74,
   "metadata": {},
   "outputs": [],
   "source": [
    "new_emails = [\"\"\"Subject: Lab Results Available for [Patient's Name]\n",
    "\n",
    "Hello [Patient's Name],\n",
    "\n",
    "Your recent lab results are now available and have been uploaded to your patient portal. To view the details, please log in to your account using the following link:\n",
    "\n",
    "[Legitimate Hospital Portal Link]\n",
    "\n",
    "If you have any questions about your results, please do not hesitate to contact Dr. Elaine Moss’s office at (555) 123-4567.\n",
    "\n",
    "Warm regards,\n",
    "Springfield Medical Center\n",
    "\n",
    "\"\"\"]\n"
   ]
  },
  {
   "cell_type": "markdown",
   "metadata": {},
   "source": [
    "# Email 4: Phishing Attempt - Fake Insurance Claim"
   ]
  },
  {
   "cell_type": "code",
   "execution_count": 76,
   "metadata": {},
   "outputs": [],
   "source": [
    "new_emails = [\"\"\"Subject: Urgent: Verification Required for Continued Insurance Coverage\n",
    "\n",
    "Dear [Patient's Name],\n",
    "\n",
    "We have identified an issue with your recent insurance claim submission related to the procedure on September 25, 2024. Due to inconsistencies in the data provided, immediate verification is necessary to maintain uninterrupted insurance coverage.\n",
    "\n",
    "Please access your insurance profile through the secure link below and confirm your details:\n",
    "\n",
    "[Phishing Link Disguised as Insurance Verification]\n",
    "\n",
    "It is crucial to address this matter promptly to avoid potential penalties or disruption in your medical coverage. If you believe you have received this email in error, please do not click on any links and contact our support directly at (555) 987-6543 to resolve this issue safely.\n",
    "Please settle the outstanding amount of $3,500 to avoid penalties. Kindly use the link below to make the payment promptly using our secure payment portal.\n",
    "\n",
    "[Phishing Link Disguised as Payment Portal]\n",
    "Thank you for your immediate attention to this urgent matter. Ensuring the accuracy of our records is essential for providing you with continuous healthcare services.\n",
    "\n",
    "Warm Regards,\n",
    "Patient Insurance Relations\n",
    "Springfield Medical Associates\n",
    "\n",
    "Note: If you do not verify your account within 48 hours, your coverage may be temporarily suspended pending further investigation.\n",
    "\n",
    "\n",
    "\"\"\"]\n"
   ]
  },
  {
   "cell_type": "markdown",
   "metadata": {},
   "source": [
    "# Email 5: Legitimate Staff Communication"
   ]
  },
  {
   "cell_type": "code",
   "execution_count": 62,
   "metadata": {},
   "outputs": [],
   "source": [
    "new_emails = [\"\"\"Subject: Updated Staff Contact List\n",
    "\n",
    "Dear Team,\n",
    "\n",
    "Please find attached the updated contact list for all department heads and administrators. Let’s ensure we’re all updated to facilitate smooth inter-department communications.\n",
    "\n",
    "[Attachment: Staff_Contacts_Oct2024.pdf]\n",
    "\n",
    "Best regards,\n",
    "Janet Greene\n",
    "HR Department, Springfield Medical Center\n",
    "\n",
    "\n",
    "\"\"\"]\n"
   ]
  },
  {
   "cell_type": "code",
   "execution_count": null,
   "metadata": {},
   "outputs": [],
   "source": []
  }
 ],
 "metadata": {
  "kernelspec": {
   "display_name": "Python 3",
   "language": "python",
   "name": "python3"
  },
  "language_info": {
   "codemirror_mode": {
    "name": "ipython",
    "version": 3
   },
   "file_extension": ".py",
   "mimetype": "text/x-python",
   "name": "python",
   "nbconvert_exporter": "python",
   "pygments_lexer": "ipython3",
   "version": "3.12.0"
  }
 },
 "nbformat": 4,
 "nbformat_minor": 2
}
